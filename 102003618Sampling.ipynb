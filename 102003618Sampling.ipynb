{
 "cells": [
  {
   "cell_type": "code",
   "execution_count": 2,
   "metadata": {},
   "outputs": [
    {
     "name": "stdout",
     "output_type": "stream",
     "text": [
      "Collecting imblearn\n",
      "  Downloading imblearn-0.0-py2.py3-none-any.whl (1.9 kB)\n",
      "Collecting imbalanced-learn\n",
      "  Using cached imbalanced_learn-0.10.1-py3-none-any.whl (226 kB)\n",
      "Requirement already satisfied: scipy>=1.3.2 in c:\\users\\dell\\anaconda3\\lib\\site-packages (from imbalanced-learn->imblearn) (1.7.3)\n",
      "Requirement already satisfied: scikit-learn>=1.0.2 in c:\\users\\dell\\anaconda3\\lib\\site-packages (from imbalanced-learn->imblearn) (1.0.2)\n",
      "Requirement already satisfied: joblib>=1.1.1 in c:\\users\\dell\\anaconda3\\lib\\site-packages (from imbalanced-learn->imblearn) (1.2.0)\n",
      "Requirement already satisfied: numpy>=1.17.3 in c:\\users\\dell\\anaconda3\\lib\\site-packages (from imbalanced-learn->imblearn) (1.21.5)\n",
      "Requirement already satisfied: threadpoolctl>=2.0.0 in c:\\users\\dell\\anaconda3\\lib\\site-packages (from imbalanced-learn->imblearn) (2.2.0)\n",
      "Installing collected packages: imbalanced-learn, imblearn\n",
      "Successfully installed imbalanced-learn-0.10.1 imblearn-0.0\n",
      "Note: you may need to restart the kernel to use updated packages.\n"
     ]
    }
   ],
   "source": [
    "pip install imblearn"
   ]
  },
  {
   "cell_type": "code",
   "execution_count": 6,
   "metadata": {},
   "outputs": [
    {
     "name": "stdout",
     "output_type": "stream",
     "text": [
      "Results from various models:\n",
      "        Sampling1   Sampling2   Sampling3   Sampling4   Sampling5\n",
      "M1    0.5548       0.9935       0.9935       0.9935       0.3742   \n",
      "M2    0.6452       0.9806       0.9806       0.9806       0.8258   \n",
      "M3    0.7742       0.9935       0.9935       0.9935       0.6968   \n",
      "M4    0.6452       0.9935       0.9935       0.9935       0.5161   \n",
      "M5    0.7806       0.9935       0.9935       0.9935       0.6516   \n"
     ]
    }
   ],
   "source": [
    "#Anshu Misra 102003618\n",
    "from sklearn.model_selection import train_test_split\n",
    "from sklearn.metrics import accuracy_score\n",
    "from imblearn.under_sampling import RandomUnderSampler, TomekLinks, NearMiss\n",
    "from imblearn.over_sampling import RandomOverSampler, SMOTE\n",
    "from sklearn.tree import DecisionTreeClassifier\n",
    "from sklearn.ensemble import RandomForestClassifier\n",
    "from sklearn.linear_model import LogisticRegression\n",
    "from sklearn.svm import SVC\n",
    "from sklearn.ensemble import ExtraTreesClassifier\n",
    "import numpy as np\n",
    "import pandas as pd\n",
    "url = 'https://raw.githubusercontent.com/AnjulaMehto/Sampling_Assignment/main/Creditcard_data.csv'\n",
    "data = pd.read_csv(url)\n",
    "X = data.drop('Class', axis=1)\n",
    "y = data['Class']\n",
    "X_train, X_test, y_train, y_test = train_test_split(X, y, test_size=0.2, random_state=42)\n",
    "z = 1.96  \n",
    "m = 0.05  \n",
    "n1 = int(np.ceil((z**2 * 0.5 * 0.5) / (m**2)))\n",
    "n2 = int(np.ceil((z**2 * 0.05 * (1-0.05)) / (m**2)))\n",
    "n3 = int(np.ceil((z**2 * 0.05 * (1-0.05)) / (m**2)))\n",
    "n4 = int(np.ceil((z**2 * 0.05 * (1-0.05)) / (m**2)))\n",
    "n5 = int(np.ceil((z**2 * 0.05 * (1-0.05)) / (m**2)))\n",
    "sampler1 = RandomUnderSampler(sampling_strategy='majority', random_state=52)\n",
    "sampler2 = RandomOverSampler(sampling_strategy='minority', random_state=52)\n",
    "sampler3 = SMOTE(sampling_strategy='minority', random_state=52)\n",
    "sampler4 = TomekLinks(sampling_strategy='majority')\n",
    "sampler5 = NearMiss(version=3, n_neighbors=3)\n",
    "model1 = LogisticRegression(random_state=52,max_iter=800)\n",
    "model2 = DecisionTreeClassifier(random_state=52)\n",
    "model3 = RandomForestClassifier(random_state=52)\n",
    "model4 = SVC(random_state=52)\n",
    "model5 = ExtraTreesClassifier(random_state=52)\n",
    "samplers = {\n",
    "    'Sampling1': sampler1,\n",
    "    'Sampling2': sampler2,\n",
    "    'Sampling3': sampler3,\n",
    "    'Sampling4': sampler4,\n",
    "    'Sampling5': sampler5,\n",
    "}\n",
    "models = {\n",
    "    'M1': model1,\n",
    "    'M2': model2,\n",
    "    'M3': model3,\n",
    "    'M4': model4,\n",
    "    'M5': model5,\n",
    "}\n",
    "results = {}\n",
    "for sampler_name, sampler in samplers.items():\n",
    "    if sampler_name == 'Sampling1':\n",
    "        n = n1\n",
    "    elif sampler_name == 'Sampling2':\n",
    "        n = n2\n",
    "    elif sampler_name == 'Sampling3':\n",
    "        n = n3\n",
    "    elif sampler_name == 'Sampling4':\n",
    "        n = n4\n",
    "    else:\n",
    "        n = n5\n",
    "    X_resampled, y_resampled = sampler.fit_resample(X_train, y_train)\n",
    "    if len(X_resampled) > n:\n",
    "        X_resampled = X_resampled[:n]\n",
    "        y_resampled = y_resampled[:n] \n",
    "    for model_name, model in models.items():\n",
    "        model.fit(X_resampled, y_resampled)\n",
    "        y_pred = model.predict(X_test)\n",
    "        accuracy = accuracy_score(y_test, y_pred)\n",
    "        if model_name in results:\n",
    "            results[model_name][sampler_name] = accuracy\n",
    "        else:\n",
    "            results[model_name] = {sampler_name: accuracy}\n",
    "print('Results from various models:')\n",
    "print('        Sampling1   Sampling2   Sampling3   Sampling4   Sampling5')\n",
    "for model_name, model_results in results.items():\n",
    "    print(model_name, end='')\n",
    "    for sampler_name in samplers.keys():\n",
    "        if sampler_name in model_results:\n",
    "            print(f'    {model_results[sampler_name]:.4f}   ', end='')\n",
    "        else:\n",
    "            print('              ', end='')\n",
    "    print() \n",
    "\n",
    "\n"
   ]
  }
 ],
 "metadata": {
  "kernelspec": {
   "display_name": "base",
   "language": "python",
   "name": "python3"
  },
  "language_info": {
   "codemirror_mode": {
    "name": "ipython",
    "version": 3
   },
   "file_extension": ".py",
   "mimetype": "text/x-python",
   "name": "python",
   "nbconvert_exporter": "python",
   "pygments_lexer": "ipython3",
   "version": "3.9.12"
  },
  "orig_nbformat": 4,
  "vscode": {
   "interpreter": {
    "hash": "5ae58900cfbb8c43ab3495913814b7cf26024f51651a94ce8bf64d6111688e8d"
   }
  }
 },
 "nbformat": 4,
 "nbformat_minor": 2
}
